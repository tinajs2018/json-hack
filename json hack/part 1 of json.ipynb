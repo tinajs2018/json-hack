{
 "cells": [
  {
   "cell_type": "code",
   "execution_count": 2,
   "metadata": {},
   "outputs": [
    {
     "name": "stdout",
     "output_type": "stream",
     "text": [
      "{\"name\": \"mele\", \"location\": \"kemya\", \"gender\": \"female\", \"age\": 13}\n"
     ]
    }
   ],
   "source": [
    "import json\n",
    "data={'name' :'mele','location':'kemya','gender':'female','age':13}\n",
    "json_data=json.dumps(data)\n",
    "print(json_data)"
   ]
  },
  {
   "cell_type": "code",
   "execution_count": 9,
   "metadata": {},
   "outputs": [
    {
     "name": "stdout",
     "output_type": "stream",
     "text": [
      "None\n"
     ]
    }
   ],
   "source": [
    "var={'name':{'kiki':'Thief','maoro':'nurse'}}\n",
    "with open('sample.json','w') as p:\n",
    "    a=json.dump(var,p)\n"
   ]
  },
  {
   "cell_type": "code",
   "execution_count": 21,
   "metadata": {},
   "outputs": [
    {
     "name": "stdout",
     "output_type": "stream",
     "text": [
      "{'name': 'mele', 'location': 'kemya', 'gender': 'female', 'age': 13}\n",
      "mele\n",
      "female\n"
     ]
    }
   ],
   "source": [
    "import json\n",
    "a='{\"name\" :\"mele\",\"location\":\"kemya\",\"gender\":\"female\",\"age\":13}'\n",
    "python_obj=json.loads(a)\n",
    "print(python_obj)\n",
    "print(python_obj['name'])\n",
    "print(python_obj['gender'])\n",
    "# import json\n",
    "# json_obj =  '{ \"Name\":\"David\", \"Class\":\"I\", \"Age\":6 }'\n",
    "# python_obj = json.loads(json_obj)\n",
    "# print(\"\\nJSON data:\")\n",
    "# print(python_obj)\n",
    "# print(\"\\nName: \",python_obj[\"Name\"])\n",
    "# print(\"Class: \",python_obj[\"Class\"])\n",
    "# print(\"Age: \",python_obj[\"Age\"]) "
   ]
  },
  {
   "cell_type": "code",
   "execution_count": 23,
   "metadata": {},
   "outputs": [
    {
     "name": "stdout",
     "output_type": "stream",
     "text": [
      "{\"name\": \"mele\", \"location\": \"kemya\", \"gender\": \"female\", \"age\": 13}\n"
     ]
    }
   ],
   "source": [
    "#Write a Python program to convert Python object to JSON data\n",
    "import json\n",
    "a={\"name\" :\"mele\",\"location\":\"kemya\",\"gender\":\"female\",\"age\":13}\n",
    "python_obj=json.dumps(a)\n",
    "print(python_obj)\n"
   ]
  },
  {
   "cell_type": "code",
   "execution_count": 29,
   "metadata": {},
   "outputs": [
    {
     "name": "stdout",
     "output_type": "stream",
     "text": [
      "[\n",
      "    \"name\",\n",
      "    \"mele\",\n",
      "    \"location\",\n",
      "    \"kemya\",\n",
      "    \"gender\",\n",
      "    \"female\",\n",
      "    \"age\",\n",
      "    13\n",
      "]\n"
     ]
    }
   ],
   "source": [
    "# Write a Python program to convert Python objects into JSON strings. Print all the values\n",
    "bin=[\"name\" ,\"mele\",\"location\",\"kemya\",\"gender\",\"female\",\"age\",13]\n",
    "json_p=json.dumps(bin,indent=4)\n",
    "print(json_p)"
   ]
  },
  {
   "cell_type": "code",
   "execution_count": null,
   "metadata": {},
   "outputs": [],
   "source": []
  }
 ],
 "metadata": {
  "kernelspec": {
   "display_name": "Python 3",
   "language": "python",
   "name": "python3"
  },
  "language_info": {
   "codemirror_mode": {
    "name": "ipython",
    "version": 3
   },
   "file_extension": ".py",
   "mimetype": "text/x-python",
   "name": "python",
   "nbconvert_exporter": "python",
   "pygments_lexer": "ipython3",
   "version": "3.7.6"
  }
 },
 "nbformat": 4,
 "nbformat_minor": 4
}
